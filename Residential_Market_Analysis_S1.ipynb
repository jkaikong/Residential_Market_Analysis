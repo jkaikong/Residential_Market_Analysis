{
 "cells": [
  {
   "cell_type": "markdown",
   "metadata": {},
   "source": [
    "# Fremont Residential Market Analysis"
   ]
  },
  {
   "cell_type": "markdown",
   "metadata": {},
   "source": [
    "### Process:\n",
    "##### Section 1: Preview and Data Cleaning\n",
    "\n",
    "##### Section 2: Exploratory Data Analysis\n",
    "\n",
    "##### Section 3: Statistical Analysis\n",
    "\n",
    "##### Section 4: Price Prediction\n",
    "\n",
    "##### Section 5: Data-Driven Suggestions\n"
   ]
  },
  {
   "cell_type": "markdown",
   "metadata": {},
   "source": [
    "## Feature Information:\n",
    "- ID: Unique ID for each single house\n",
    "- DOM: Data on market\n",
    "- Area: Area codes in Fremont\n",
    "- LP: Listing price\n",
    "- SP: Sold price\n",
    "- SqFt: Square footage for each single house\n",
    "- BR: Number of bedroom\n",
    "- Bth: Number of full-bathroom\n",
    "- PB: Number of partial-bathroom\n",
    "- Gar: Garage\n",
    "- GarSp: Garage space\n",
    "- YrBlt: Year built\n",
    "- HOA Fee: Homeowner's association fee\n",
    "- Freq: Frequency of HOA fee (A: Annually, SA: Semi-annual, M: Monthly, Q:uarterly)"
   ]
  },
  {
   "cell_type": "code",
   "execution_count": 1,
   "metadata": {},
   "outputs": [],
   "source": [
    "import pandas as pd\n",
    "import matplotlib.pyplot as plt\n",
    "from matplotlib import style\n",
    "%matplotlib inline\n",
    "plt.style.use('seaborn-whitegrid')"
   ]
  },
  {
   "cell_type": "code",
   "execution_count": 2,
   "metadata": {},
   "outputs": [],
   "source": [
    "df = pd.read_csv('Fremont Sold DE 19-21.csv')"
   ]
  },
  {
   "cell_type": "code",
   "execution_count": 3,
   "metadata": {},
   "outputs": [
    {
     "data": {
      "text/html": [
       "<div>\n",
       "<style scoped>\n",
       "    .dataframe tbody tr th:only-of-type {\n",
       "        vertical-align: middle;\n",
       "    }\n",
       "\n",
       "    .dataframe tbody tr th {\n",
       "        vertical-align: top;\n",
       "    }\n",
       "\n",
       "    .dataframe thead th {\n",
       "        text-align: right;\n",
       "    }\n",
       "</style>\n",
       "<table border=\"1\" class=\"dataframe\">\n",
       "  <thead>\n",
       "    <tr style=\"text-align: right;\">\n",
       "      <th></th>\n",
       "      <th>ID</th>\n",
       "      <th>DOM</th>\n",
       "      <th>Area</th>\n",
       "      <th>LP</th>\n",
       "      <th>SP</th>\n",
       "      <th>SqFt</th>\n",
       "      <th>BR</th>\n",
       "      <th>Bth</th>\n",
       "      <th>PB</th>\n",
       "      <th>Gar</th>\n",
       "      <th>GarSp</th>\n",
       "      <th>YrBlt</th>\n",
       "      <th>HOA Fee</th>\n",
       "      <th>Freq</th>\n",
       "    </tr>\n",
       "  </thead>\n",
       "  <tbody>\n",
       "    <tr>\n",
       "      <th>0</th>\n",
       "      <td>BA21916741</td>\n",
       "      <td>14</td>\n",
       "      <td>21101</td>\n",
       "      <td>$647,700</td>\n",
       "      <td>$750,000</td>\n",
       "      <td>1320</td>\n",
       "      <td>3.0</td>\n",
       "      <td>2.0</td>\n",
       "      <td>0.0</td>\n",
       "      <td>NaN</td>\n",
       "      <td>2.0</td>\n",
       "      <td>1959.0</td>\n",
       "      <td>180.0</td>\n",
       "      <td>A</td>\n",
       "    </tr>\n",
       "    <tr>\n",
       "      <th>1</th>\n",
       "      <td>BA21929677</td>\n",
       "      <td>33</td>\n",
       "      <td>21101</td>\n",
       "      <td>$725,000</td>\n",
       "      <td>$705,000</td>\n",
       "      <td>950</td>\n",
       "      <td>3.0</td>\n",
       "      <td>1.0</td>\n",
       "      <td>0.0</td>\n",
       "      <td>NaN</td>\n",
       "      <td>2.0</td>\n",
       "      <td>1957.0</td>\n",
       "      <td>NaN</td>\n",
       "      <td>NaN</td>\n",
       "    </tr>\n",
       "    <tr>\n",
       "      <th>2</th>\n",
       "      <td>ME19036856</td>\n",
       "      <td>72</td>\n",
       "      <td>21101</td>\n",
       "      <td>$799,000</td>\n",
       "      <td>$765,000</td>\n",
       "      <td>1036</td>\n",
       "      <td>3.0</td>\n",
       "      <td>1.0</td>\n",
       "      <td>0.0</td>\n",
       "      <td>NaN</td>\n",
       "      <td>2.0</td>\n",
       "      <td>1959.0</td>\n",
       "      <td>NaN</td>\n",
       "      <td>NaN</td>\n",
       "    </tr>\n",
       "    <tr>\n",
       "      <th>3</th>\n",
       "      <td>BA21915173</td>\n",
       "      <td>128</td>\n",
       "      <td>21101</td>\n",
       "      <td>$829,000</td>\n",
       "      <td>$812,500</td>\n",
       "      <td>1042</td>\n",
       "      <td>2.0</td>\n",
       "      <td>2.0</td>\n",
       "      <td>0.0</td>\n",
       "      <td>NaN</td>\n",
       "      <td>2.0</td>\n",
       "      <td>1985.0</td>\n",
       "      <td>125.0</td>\n",
       "      <td>M</td>\n",
       "    </tr>\n",
       "    <tr>\n",
       "      <th>4</th>\n",
       "      <td>BA22004902</td>\n",
       "      <td>23</td>\n",
       "      <td>21101</td>\n",
       "      <td>$850,000</td>\n",
       "      <td>$836,000</td>\n",
       "      <td>1169</td>\n",
       "      <td>3.0</td>\n",
       "      <td>2.0</td>\n",
       "      <td>0.0</td>\n",
       "      <td>NaN</td>\n",
       "      <td>2.0</td>\n",
       "      <td>1959.0</td>\n",
       "      <td>NaN</td>\n",
       "      <td>NaN</td>\n",
       "    </tr>\n",
       "  </tbody>\n",
       "</table>\n",
       "</div>"
      ],
      "text/plain": [
       "           ID  DOM   Area         LP         SP  SqFt   BR  Bth   PB  Gar  \\\n",
       "0  BA21916741   14  21101  $647,700   $750,000   1320  3.0  2.0  0.0  NaN   \n",
       "1  BA21929677   33  21101  $725,000   $705,000    950  3.0  1.0  0.0  NaN   \n",
       "2  ME19036856   72  21101  $799,000   $765,000   1036  3.0  1.0  0.0  NaN   \n",
       "3  BA21915173  128  21101  $829,000   $812,500   1042  2.0  2.0  0.0  NaN   \n",
       "4  BA22004902   23  21101  $850,000   $836,000   1169  3.0  2.0  0.0  NaN   \n",
       "\n",
       "   GarSp   YrBlt  HOA Fee Freq  \n",
       "0    2.0  1959.0    180.0    A  \n",
       "1    2.0  1957.0      NaN  NaN  \n",
       "2    2.0  1959.0      NaN  NaN  \n",
       "3    2.0  1985.0    125.0    M  \n",
       "4    2.0  1959.0      NaN  NaN  "
      ]
     },
     "execution_count": 3,
     "metadata": {},
     "output_type": "execute_result"
    }
   ],
   "source": [
    "df.head()"
   ]
  },
  {
   "cell_type": "code",
   "execution_count": 4,
   "metadata": {},
   "outputs": [
    {
     "name": "stdout",
     "output_type": "stream",
     "text": [
      "<class 'pandas.core.frame.DataFrame'>\n",
      "RangeIndex: 4064 entries, 0 to 4063\n",
      "Data columns (total 14 columns):\n",
      "ID         4064 non-null object\n",
      "DOM        4064 non-null int64\n",
      "Area       4064 non-null int64\n",
      "LP         4064 non-null object\n",
      "SP         4064 non-null object\n",
      "SqFt       4064 non-null int64\n",
      "BR         4063 non-null float64\n",
      "Bth        4063 non-null float64\n",
      "PB         2953 non-null float64\n",
      "Gar        3901 non-null object\n",
      "GarSp      4058 non-null float64\n",
      "YrBlt      4062 non-null float64\n",
      "HOA Fee    1009 non-null float64\n",
      "Freq       896 non-null object\n",
      "dtypes: float64(6), int64(3), object(5)\n",
      "memory usage: 444.6+ KB\n"
     ]
    }
   ],
   "source": [
    "df.info()"
   ]
  },
  {
   "cell_type": "code",
   "execution_count": 5,
   "metadata": {
    "scrolled": true
   },
   "outputs": [
    {
     "data": {
      "text/plain": [
       "ID            0\n",
       "DOM           0\n",
       "Area          0\n",
       "LP            0\n",
       "SP            0\n",
       "SqFt          0\n",
       "BR            1\n",
       "Bth           1\n",
       "PB         1111\n",
       "Gar         163\n",
       "GarSp         6\n",
       "YrBlt         2\n",
       "HOA Fee    3055\n",
       "Freq       3168\n",
       "dtype: int64"
      ]
     },
     "execution_count": 5,
     "metadata": {},
     "output_type": "execute_result"
    }
   ],
   "source": [
    "df.isna().sum()"
   ]
  },
  {
   "cell_type": "code",
   "execution_count": 7,
   "metadata": {},
   "outputs": [
    {
     "data": {
      "text/html": [
       "<div>\n",
       "<style scoped>\n",
       "    .dataframe tbody tr th:only-of-type {\n",
       "        vertical-align: middle;\n",
       "    }\n",
       "\n",
       "    .dataframe tbody tr th {\n",
       "        vertical-align: top;\n",
       "    }\n",
       "\n",
       "    .dataframe thead th {\n",
       "        text-align: right;\n",
       "    }\n",
       "</style>\n",
       "<table border=\"1\" class=\"dataframe\">\n",
       "  <thead>\n",
       "    <tr style=\"text-align: right;\">\n",
       "      <th></th>\n",
       "      <th>ID</th>\n",
       "      <th>DOM</th>\n",
       "      <th>Area</th>\n",
       "      <th>LP</th>\n",
       "      <th>SP</th>\n",
       "      <th>SqFt</th>\n",
       "      <th>BR</th>\n",
       "      <th>Bth</th>\n",
       "      <th>PB</th>\n",
       "      <th>Gar</th>\n",
       "      <th>GarSp</th>\n",
       "      <th>YrBlt</th>\n",
       "      <th>HOA Fee</th>\n",
       "      <th>Freq</th>\n",
       "    </tr>\n",
       "  </thead>\n",
       "  <tbody>\n",
       "  </tbody>\n",
       "</table>\n",
       "</div>"
      ],
      "text/plain": [
       "Empty DataFrame\n",
       "Columns: [ID, DOM, Area, LP, SP, SqFt, BR, Bth, PB, Gar, GarSp, YrBlt, HOA Fee, Freq]\n",
       "Index: []"
      ]
     },
     "execution_count": 7,
     "metadata": {},
     "output_type": "execute_result"
    }
   ],
   "source": [
    "df[df.duplicated()]"
   ]
  },
  {
   "cell_type": "markdown",
   "metadata": {},
   "source": [
    "### Data cleaning\n",
    "- Drop the row with missing value in BR, Bth, and YrBlt columns\n",
    "- Drop the Freq column since we have the HOA fee\n",
    "- Replace 'NaN' with 0 in PB, GarSp, HOA fee columns\n",
    "- Replace 'NaN' with 'Y' in Gar column if GarSp not equal to 0, otherwise replace with 'N'\n",
    "- Remove '\\$' and ',' from LP and SP columns\n",
    "- Change LP, SP, BR, Bth, PB, GarSp, YrBlt, HOA Fee data type to 'int'"
   ]
  },
  {
   "cell_type": "code",
   "execution_count": 8,
   "metadata": {},
   "outputs": [],
   "source": [
    "df_clean = df.copy()"
   ]
  },
  {
   "cell_type": "code",
   "execution_count": 9,
   "metadata": {},
   "outputs": [
    {
     "name": "stdout",
     "output_type": "stream",
     "text": [
      "<class 'pandas.core.frame.DataFrame'>\n",
      "RangeIndex: 4064 entries, 0 to 4063\n",
      "Data columns (total 14 columns):\n",
      "ID         4064 non-null object\n",
      "DOM        4064 non-null int64\n",
      "Area       4064 non-null int64\n",
      "LP         4064 non-null object\n",
      "SP         4064 non-null object\n",
      "SqFt       4064 non-null int64\n",
      "BR         4063 non-null float64\n",
      "Bth        4063 non-null float64\n",
      "PB         2953 non-null float64\n",
      "Gar        3901 non-null object\n",
      "GarSp      4058 non-null float64\n",
      "YrBlt      4062 non-null float64\n",
      "HOA Fee    1009 non-null float64\n",
      "Freq       896 non-null object\n",
      "dtypes: float64(6), int64(3), object(5)\n",
      "memory usage: 444.6+ KB\n"
     ]
    }
   ],
   "source": [
    "df_clean.info()"
   ]
  },
  {
   "cell_type": "code",
   "execution_count": 10,
   "metadata": {
    "scrolled": true
   },
   "outputs": [
    {
     "data": {
      "text/plain": [
       "ID            0\n",
       "DOM           0\n",
       "Area          0\n",
       "LP            0\n",
       "SP            0\n",
       "SqFt          0\n",
       "BR            1\n",
       "Bth           1\n",
       "PB         1111\n",
       "Gar         163\n",
       "GarSp         6\n",
       "YrBlt         2\n",
       "HOA Fee    3055\n",
       "Freq       3168\n",
       "dtype: int64"
      ]
     },
     "execution_count": 10,
     "metadata": {},
     "output_type": "execute_result"
    }
   ],
   "source": [
    "df_clean.isna().sum()"
   ]
  },
  {
   "cell_type": "code",
   "execution_count": 11,
   "metadata": {},
   "outputs": [],
   "source": [
    "# Drop the row with missing value in BR, Bth, and YrBlt columns\n",
    "\n",
    "df_clean.dropna(subset=['BR','Bth','YrBlt'], inplace=True)"
   ]
  },
  {
   "cell_type": "code",
   "execution_count": 12,
   "metadata": {},
   "outputs": [],
   "source": [
    "# Drop the 'Freq' column\n",
    "\n",
    "df_clean.drop('Freq', axis=1, inplace=True)"
   ]
  },
  {
   "cell_type": "code",
   "execution_count": 13,
   "metadata": {},
   "outputs": [],
   "source": [
    "# Replace 'NaN' with 0 in PB, GarSp, HOA fee columns\n",
    "\n",
    "df_clean.update(df[['PB', 'GarSp', 'HOA Fee']].fillna(0))"
   ]
  },
  {
   "cell_type": "code",
   "execution_count": 14,
   "metadata": {},
   "outputs": [],
   "source": [
    "# Replace 'NaN' with 'Y' in Gar column if GarSp not equal to 0, otherwise replace with 'N'\n",
    "\n",
    "def filling_Gar(x):\n",
    "    Gar = x[0]\n",
    "    GarSp = x[1]\n",
    "    \n",
    "    if pd.isna(Gar):\n",
    "        if GarSp != 0:\n",
    "            return 'Y'\n",
    "        else:\n",
    "            return 'N'\n",
    "    else:\n",
    "        return Gar"
   ]
  },
  {
   "cell_type": "code",
   "execution_count": 15,
   "metadata": {},
   "outputs": [],
   "source": [
    "df_clean['Gar'] = df_clean[['Gar', 'GarSp']].apply(filling_Gar, axis=1)"
   ]
  },
  {
   "cell_type": "code",
   "execution_count": 16,
   "metadata": {},
   "outputs": [],
   "source": [
    "# Remove '\\$' and ',' from LP and SP columns\n",
    "\n",
    "df_clean['LP'] = df_clean.LP.apply(lambda x: x.replace('$','').replace(',',''))\n",
    "df_clean['SP'] = df_clean.SP.apply(lambda x: x.replace('$','').replace(',',''))"
   ]
  },
  {
   "cell_type": "code",
   "execution_count": 17,
   "metadata": {
    "scrolled": false
   },
   "outputs": [],
   "source": [
    "# Change data type\n",
    "col = ['LP', 'SP', 'BR', 'Bth', 'PB', 'GarSp', 'YrBlt', 'HOA Fee']\n",
    "\n",
    "for i in col:\n",
    "    df_clean[i] = df_clean[i].astype('int')"
   ]
  },
  {
   "cell_type": "code",
   "execution_count": 18,
   "metadata": {},
   "outputs": [],
   "source": [
    "df_clean['Gar'] = df_clean.Gar.astype('category')"
   ]
  },
  {
   "cell_type": "code",
   "execution_count": 19,
   "metadata": {},
   "outputs": [
    {
     "name": "stdout",
     "output_type": "stream",
     "text": [
      "<class 'pandas.core.frame.DataFrame'>\n",
      "Int64Index: 4061 entries, 0 to 4063\n",
      "Data columns (total 13 columns):\n",
      "ID         4061 non-null object\n",
      "DOM        4061 non-null int64\n",
      "Area       4061 non-null int64\n",
      "LP         4061 non-null int64\n",
      "SP         4061 non-null int64\n",
      "SqFt       4061 non-null int64\n",
      "BR         4061 non-null int64\n",
      "Bth        4061 non-null int64\n",
      "PB         4061 non-null int64\n",
      "Gar        4061 non-null category\n",
      "GarSp      4061 non-null int64\n",
      "YrBlt      4061 non-null int64\n",
      "HOA Fee    4061 non-null int64\n",
      "dtypes: category(1), int64(11), object(1)\n",
      "memory usage: 416.5+ KB\n"
     ]
    }
   ],
   "source": [
    "# Check the data set\n",
    "df_clean.info()"
   ]
  },
  {
   "cell_type": "code",
   "execution_count": 20,
   "metadata": {},
   "outputs": [],
   "source": [
    "# Store the cleaned data set into a csv file\n",
    "\n",
    "df_clean.reset_index(drop=True)\n",
    "df_clean.to_csv('Fremont_Sold_data_cleaned.csv', index=False)"
   ]
  }
 ],
 "metadata": {
  "kernelspec": {
   "display_name": "Python 3",
   "language": "python",
   "name": "python3"
  },
  "language_info": {
   "codemirror_mode": {
    "name": "ipython",
    "version": 3
   },
   "file_extension": ".py",
   "mimetype": "text/x-python",
   "name": "python",
   "nbconvert_exporter": "python",
   "pygments_lexer": "ipython3",
   "version": "3.7.5"
  }
 },
 "nbformat": 4,
 "nbformat_minor": 2
}
