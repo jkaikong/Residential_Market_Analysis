{
 "cells": [
  {
   "cell_type": "markdown",
   "metadata": {},
   "source": [
    "# Fremont Residential Market Analysis"
   ]
  },
  {
   "cell_type": "markdown",
   "metadata": {},
   "source": [
    "### Process:\n",
    "##### Section 1: Preview and Data Cleaning\n",
    "\n",
    "##### Section 2: Exploratory Data Analysis\n",
    "\n",
    "##### Section 3: Price Prediction\n",
    "\n",
    "##### Section 4: Data-Driven Suggestions\n"
   ]
  },
  {
   "cell_type": "markdown",
   "metadata": {},
   "source": [
    "<div class=\"alert alert-block alert-info\">\n",
    "\n",
    "## Feature Information:\n",
    "- ID: Unique ID for each single house\n",
    "- DOM: Date on market\n",
    "- Area: Area codes in Fremont\n",
    "- LP: Listing price\n",
    "- SP: Sold price\n",
    "- SqFt: Square footage for each single house\n",
    "- BR: Number of bedroom\n",
    "- Bth: Number of full-bathroom\n",
    "- PB: Number of partial-bathroom\n",
    "- Gar: Garage ('Y'/'N')\n",
    "- GarSp: Number of garage space\n",
    "- YrBlt: Year built\n",
    "- Lot SqFt: The land size according to the survey of boundary lines determined by the city\n",
    "- HOA Fee: Homeowner's association fee\n",
    "- Closing Date: The date when the transaction is officially done\n",
    "\n",
    "</div>"
   ]
  },
  {
   "cell_type": "code",
   "execution_count": 9,
   "metadata": {},
   "outputs": [],
   "source": [
    "import pandas as pd\n",
    "import matplotlib.pyplot as plt\n",
    "from matplotlib import style\n",
    "%matplotlib inline\n",
    "plt.style.use('seaborn-whitegrid')"
   ]
  },
  {
   "cell_type": "code",
   "execution_count": 10,
   "metadata": {},
   "outputs": [],
   "source": [
    "df = pd.read_csv('Fremont_Sold_DE.csv')"
   ]
  },
  {
   "cell_type": "code",
   "execution_count": 11,
   "metadata": {},
   "outputs": [
    {
     "data": {
      "text/html": [
       "<div>\n",
       "<style scoped>\n",
       "    .dataframe tbody tr th:only-of-type {\n",
       "        vertical-align: middle;\n",
       "    }\n",
       "\n",
       "    .dataframe tbody tr th {\n",
       "        vertical-align: top;\n",
       "    }\n",
       "\n",
       "    .dataframe thead th {\n",
       "        text-align: right;\n",
       "    }\n",
       "</style>\n",
       "<table border=\"1\" class=\"dataframe\">\n",
       "  <thead>\n",
       "    <tr style=\"text-align: right;\">\n",
       "      <th></th>\n",
       "      <th>ID</th>\n",
       "      <th>DOM</th>\n",
       "      <th>Area</th>\n",
       "      <th>LP</th>\n",
       "      <th>SP</th>\n",
       "      <th>SqFt</th>\n",
       "      <th>BR</th>\n",
       "      <th>Bth</th>\n",
       "      <th>PB</th>\n",
       "      <th>Gar</th>\n",
       "      <th>GarSp</th>\n",
       "      <th>YrBlt</th>\n",
       "      <th>Lot SqFt</th>\n",
       "      <th>HOA Fee</th>\n",
       "      <th>Closing Date</th>\n",
       "    </tr>\n",
       "  </thead>\n",
       "  <tbody>\n",
       "    <tr>\n",
       "      <th>0</th>\n",
       "      <td>40843932</td>\n",
       "      <td>45</td>\n",
       "      <td>3700</td>\n",
       "      <td>$848,888</td>\n",
       "      <td>$805,000</td>\n",
       "      <td>1165</td>\n",
       "      <td>2.0</td>\n",
       "      <td>2.0</td>\n",
       "      <td>0.0</td>\n",
       "      <td>N</td>\n",
       "      <td>2.0</td>\n",
       "      <td>1976.0</td>\n",
       "      <td>5,916</td>\n",
       "      <td>NaN</td>\n",
       "      <td>1/2/19</td>\n",
       "    </tr>\n",
       "    <tr>\n",
       "      <th>1</th>\n",
       "      <td>40844383</td>\n",
       "      <td>28</td>\n",
       "      <td>3700</td>\n",
       "      <td>$1,189,000</td>\n",
       "      <td>$1,220,000</td>\n",
       "      <td>1480</td>\n",
       "      <td>4.0</td>\n",
       "      <td>3.0</td>\n",
       "      <td>0.0</td>\n",
       "      <td>Y</td>\n",
       "      <td>2.0</td>\n",
       "      <td>1958.0</td>\n",
       "      <td>7,875</td>\n",
       "      <td>150.0</td>\n",
       "      <td>1/2/19</td>\n",
       "    </tr>\n",
       "    <tr>\n",
       "      <th>2</th>\n",
       "      <td>SF478231</td>\n",
       "      <td>52</td>\n",
       "      <td>3700</td>\n",
       "      <td>$1,280,000</td>\n",
       "      <td>$1,100,000</td>\n",
       "      <td>1192</td>\n",
       "      <td>3.0</td>\n",
       "      <td>1.0</td>\n",
       "      <td>0.0</td>\n",
       "      <td>NaN</td>\n",
       "      <td>NaN</td>\n",
       "      <td>NaN</td>\n",
       "      <td>7,735</td>\n",
       "      <td>NaN</td>\n",
       "      <td>1/2/19</td>\n",
       "    </tr>\n",
       "    <tr>\n",
       "      <th>3</th>\n",
       "      <td>40844295</td>\n",
       "      <td>52</td>\n",
       "      <td>3700</td>\n",
       "      <td>$1,280,000</td>\n",
       "      <td>$1,100,000</td>\n",
       "      <td>1192</td>\n",
       "      <td>3.0</td>\n",
       "      <td>1.0</td>\n",
       "      <td>0.0</td>\n",
       "      <td>Y</td>\n",
       "      <td>2.0</td>\n",
       "      <td>1954.0</td>\n",
       "      <td>7,735</td>\n",
       "      <td>NaN</td>\n",
       "      <td>1/2/19</td>\n",
       "    </tr>\n",
       "    <tr>\n",
       "      <th>4</th>\n",
       "      <td>ML81728224</td>\n",
       "      <td>42</td>\n",
       "      <td>3700</td>\n",
       "      <td>$1,089,950</td>\n",
       "      <td>$1,041,515</td>\n",
       "      <td>1915</td>\n",
       "      <td>3.0</td>\n",
       "      <td>2.0</td>\n",
       "      <td>0.0</td>\n",
       "      <td>Y</td>\n",
       "      <td>2.0</td>\n",
       "      <td>1958.0</td>\n",
       "      <td>7,700</td>\n",
       "      <td>150.0</td>\n",
       "      <td>1/3/19</td>\n",
       "    </tr>\n",
       "  </tbody>\n",
       "</table>\n",
       "</div>"
      ],
      "text/plain": [
       "           ID  DOM  Area           LP           SP  SqFt   BR  Bth   PB  Gar  \\\n",
       "0    40843932   45  3700    $848,888     $805,000   1165  2.0  2.0  0.0    N   \n",
       "1    40844383   28  3700  $1,189,000   $1,220,000   1480  4.0  3.0  0.0    Y   \n",
       "2    SF478231   52  3700  $1,280,000   $1,100,000   1192  3.0  1.0  0.0  NaN   \n",
       "3    40844295   52  3700  $1,280,000   $1,100,000   1192  3.0  1.0  0.0    Y   \n",
       "4  ML81728224   42  3700  $1,089,950   $1,041,515   1915  3.0  2.0  0.0    Y   \n",
       "\n",
       "   GarSp   YrBlt Lot SqFt  HOA Fee Closing Date  \n",
       "0    2.0  1976.0    5,916      NaN       1/2/19  \n",
       "1    2.0  1958.0    7,875    150.0       1/2/19  \n",
       "2    NaN     NaN    7,735      NaN       1/2/19  \n",
       "3    2.0  1954.0    7,735      NaN       1/2/19  \n",
       "4    2.0  1958.0    7,700    150.0       1/3/19  "
      ]
     },
     "execution_count": 11,
     "metadata": {},
     "output_type": "execute_result"
    }
   ],
   "source": [
    "df.head()"
   ]
  },
  {
   "cell_type": "code",
   "execution_count": 12,
   "metadata": {},
   "outputs": [
    {
     "name": "stdout",
     "output_type": "stream",
     "text": [
      "<class 'pandas.core.frame.DataFrame'>\n",
      "RangeIndex: 4064 entries, 0 to 4063\n",
      "Data columns (total 15 columns):\n",
      "ID              4064 non-null object\n",
      "DOM             4064 non-null int64\n",
      "Area            4064 non-null int64\n",
      "LP              4064 non-null object\n",
      "SP              4064 non-null object\n",
      "SqFt            4064 non-null int64\n",
      "BR              4063 non-null float64\n",
      "Bth             4063 non-null float64\n",
      "PB              2953 non-null float64\n",
      "Gar             3901 non-null object\n",
      "GarSp           4058 non-null float64\n",
      "YrBlt           4062 non-null float64\n",
      "Lot SqFt        4064 non-null object\n",
      "HOA Fee         1009 non-null float64\n",
      "Closing Date    4064 non-null object\n",
      "dtypes: float64(6), int64(3), object(6)\n",
      "memory usage: 476.4+ KB\n"
     ]
    }
   ],
   "source": [
    "df.info()"
   ]
  },
  {
   "cell_type": "code",
   "execution_count": 13,
   "metadata": {
    "scrolled": true
   },
   "outputs": [
    {
     "data": {
      "text/plain": [
       "ID                 0\n",
       "DOM                0\n",
       "Area               0\n",
       "LP                 0\n",
       "SP                 0\n",
       "SqFt               0\n",
       "BR                 1\n",
       "Bth                1\n",
       "PB              1111\n",
       "Gar              163\n",
       "GarSp              6\n",
       "YrBlt              2\n",
       "Lot SqFt           0\n",
       "HOA Fee         3055\n",
       "Closing Date       0\n",
       "dtype: int64"
      ]
     },
     "execution_count": 13,
     "metadata": {},
     "output_type": "execute_result"
    }
   ],
   "source": [
    "df.isna().sum()"
   ]
  },
  {
   "cell_type": "code",
   "execution_count": 14,
   "metadata": {},
   "outputs": [
    {
     "data": {
      "text/html": [
       "<div>\n",
       "<style scoped>\n",
       "    .dataframe tbody tr th:only-of-type {\n",
       "        vertical-align: middle;\n",
       "    }\n",
       "\n",
       "    .dataframe tbody tr th {\n",
       "        vertical-align: top;\n",
       "    }\n",
       "\n",
       "    .dataframe thead th {\n",
       "        text-align: right;\n",
       "    }\n",
       "</style>\n",
       "<table border=\"1\" class=\"dataframe\">\n",
       "  <thead>\n",
       "    <tr style=\"text-align: right;\">\n",
       "      <th></th>\n",
       "      <th>ID</th>\n",
       "      <th>DOM</th>\n",
       "      <th>Area</th>\n",
       "      <th>LP</th>\n",
       "      <th>SP</th>\n",
       "      <th>SqFt</th>\n",
       "      <th>BR</th>\n",
       "      <th>Bth</th>\n",
       "      <th>PB</th>\n",
       "      <th>Gar</th>\n",
       "      <th>GarSp</th>\n",
       "      <th>YrBlt</th>\n",
       "      <th>Lot SqFt</th>\n",
       "      <th>HOA Fee</th>\n",
       "      <th>Closing Date</th>\n",
       "    </tr>\n",
       "  </thead>\n",
       "  <tbody>\n",
       "  </tbody>\n",
       "</table>\n",
       "</div>"
      ],
      "text/plain": [
       "Empty DataFrame\n",
       "Columns: [ID, DOM, Area, LP, SP, SqFt, BR, Bth, PB, Gar, GarSp, YrBlt, Lot SqFt, HOA Fee, Closing Date]\n",
       "Index: []"
      ]
     },
     "execution_count": 14,
     "metadata": {},
     "output_type": "execute_result"
    }
   ],
   "source": [
    "df[df.duplicated()]"
   ]
  },
  {
   "cell_type": "markdown",
   "metadata": {},
   "source": [
    "### Data cleaning\n",
    "- Drop the row with missing value in BR, Bth, and YrBlt columns\n",
    "- Drop the Gar column since we have the GarSp to show if the house has garage. The column also contain input mistake.\n",
    "- Replace 'NaN' with 0 in PB, GarSp, HOA fee columns\n",
    "- Remove '\\$' and ',' from LP and SP columns\n",
    "- Change LP, SP, BR, Bth, PB, GarSp, YrBlt, HOA Fee data type to 'int'"
   ]
  },
  {
   "cell_type": "code",
   "execution_count": 35,
   "metadata": {},
   "outputs": [],
   "source": [
    "df_clean = df.copy()"
   ]
  },
  {
   "cell_type": "code",
   "execution_count": 36,
   "metadata": {
    "scrolled": false
   },
   "outputs": [
    {
     "name": "stdout",
     "output_type": "stream",
     "text": [
      "<class 'pandas.core.frame.DataFrame'>\n",
      "RangeIndex: 4064 entries, 0 to 4063\n",
      "Data columns (total 15 columns):\n",
      "ID              4064 non-null object\n",
      "DOM             4064 non-null int64\n",
      "Area            4064 non-null int64\n",
      "LP              4064 non-null object\n",
      "SP              4064 non-null object\n",
      "SqFt            4064 non-null int64\n",
      "BR              4063 non-null float64\n",
      "Bth             4063 non-null float64\n",
      "PB              2953 non-null float64\n",
      "Gar             3901 non-null object\n",
      "GarSp           4058 non-null float64\n",
      "YrBlt           4062 non-null float64\n",
      "Lot SqFt        4064 non-null object\n",
      "HOA Fee         1009 non-null float64\n",
      "Closing Date    4064 non-null object\n",
      "dtypes: float64(6), int64(3), object(6)\n",
      "memory usage: 476.4+ KB\n"
     ]
    }
   ],
   "source": [
    "df_clean.info()"
   ]
  },
  {
   "cell_type": "code",
   "execution_count": 37,
   "metadata": {
    "scrolled": false
   },
   "outputs": [
    {
     "data": {
      "text/plain": [
       "ID                 0\n",
       "DOM                0\n",
       "Area               0\n",
       "LP                 0\n",
       "SP                 0\n",
       "SqFt               0\n",
       "BR                 1\n",
       "Bth                1\n",
       "PB              1111\n",
       "Gar              163\n",
       "GarSp              6\n",
       "YrBlt              2\n",
       "Lot SqFt           0\n",
       "HOA Fee         3055\n",
       "Closing Date       0\n",
       "dtype: int64"
      ]
     },
     "execution_count": 37,
     "metadata": {},
     "output_type": "execute_result"
    }
   ],
   "source": [
    "df_clean.isna().sum()"
   ]
  },
  {
   "cell_type": "code",
   "execution_count": 38,
   "metadata": {},
   "outputs": [],
   "source": [
    "# Drop the row with missing value in BR, Bth, and YrBlt columns\n",
    "\n",
    "df_clean.dropna(subset=['BR','Bth','YrBlt'], inplace=True)"
   ]
  },
  {
   "cell_type": "code",
   "execution_count": 39,
   "metadata": {},
   "outputs": [],
   "source": [
    "# Drop the 'Freq' column\n",
    "\n",
    "df_clean.drop('Gar', axis=1, inplace=True)"
   ]
  },
  {
   "cell_type": "code",
   "execution_count": 40,
   "metadata": {},
   "outputs": [],
   "source": [
    "# Replace 'NaN' with 0 in PB, GarSp, HOA fee columns\n",
    "\n",
    "df_clean.update(df[['PB', 'GarSp', 'HOA Fee']].fillna(0))"
   ]
  },
  {
   "cell_type": "code",
   "execution_count": 41,
   "metadata": {},
   "outputs": [],
   "source": [
    "# Remove '\\$' and ',' from LP and SP columns\n",
    "\n",
    "df_clean['LP'] = df_clean.LP.apply(lambda x: x.replace('$','').replace(',',''))\n",
    "df_clean['SP'] = df_clean.SP.apply(lambda x: x.replace('$','').replace(',',''))\n",
    "df_clean['Lot SqFt'] = df_clean['Lot SqFt'].apply(lambda x: x.replace(',',''))"
   ]
  },
  {
   "cell_type": "code",
   "execution_count": 43,
   "metadata": {
    "scrolled": false
   },
   "outputs": [],
   "source": [
    "# Change data type\n",
    "col = ['LP', 'SP', 'BR', 'Bth', 'PB', 'GarSp', 'YrBlt', 'Lot SqFt', 'HOA Fee']\n",
    "\n",
    "for i in col:\n",
    "    df_clean[i] = df_clean[i].astype('int')"
   ]
  },
  {
   "cell_type": "code",
   "execution_count": 45,
   "metadata": {},
   "outputs": [],
   "source": [
    "df_clean['Closing Date'] = pd.to_datetime(df_clean['Closing Date'])"
   ]
  },
  {
   "cell_type": "code",
   "execution_count": 46,
   "metadata": {},
   "outputs": [
    {
     "name": "stdout",
     "output_type": "stream",
     "text": [
      "<class 'pandas.core.frame.DataFrame'>\n",
      "Int64Index: 4061 entries, 0 to 4063\n",
      "Data columns (total 14 columns):\n",
      "ID              4061 non-null object\n",
      "DOM             4061 non-null int64\n",
      "Area            4061 non-null int64\n",
      "LP              4061 non-null int64\n",
      "SP              4061 non-null int64\n",
      "SqFt            4061 non-null int64\n",
      "BR              4061 non-null int64\n",
      "Bth             4061 non-null int64\n",
      "PB              4061 non-null int64\n",
      "GarSp           4061 non-null int64\n",
      "YrBlt           4061 non-null int64\n",
      "Lot SqFt        4061 non-null int64\n",
      "HOA Fee         4061 non-null int64\n",
      "Closing Date    4061 non-null datetime64[ns]\n",
      "dtypes: datetime64[ns](1), int64(12), object(1)\n",
      "memory usage: 475.9+ KB\n"
     ]
    }
   ],
   "source": [
    "# Check the data set\n",
    "df_clean.info()"
   ]
  },
  {
   "cell_type": "code",
   "execution_count": 47,
   "metadata": {},
   "outputs": [],
   "source": [
    "# Store the cleaned data set into a csv file\n",
    "\n",
    "df_clean.reset_index(drop=True)\n",
    "df_clean.to_csv('Fremont_Sold_data_cleaned.csv', index=False)"
   ]
  }
 ],
 "metadata": {
  "kernelspec": {
   "display_name": "Python 3",
   "language": "python",
   "name": "python3"
  },
  "language_info": {
   "codemirror_mode": {
    "name": "ipython",
    "version": 3
   },
   "file_extension": ".py",
   "mimetype": "text/x-python",
   "name": "python",
   "nbconvert_exporter": "python",
   "pygments_lexer": "ipython3",
   "version": "3.7.5"
  }
 },
 "nbformat": 4,
 "nbformat_minor": 2
}
